{
 "cells": [
  {
   "cell_type": "code",
   "execution_count": 1,
   "id": "1ad8e567",
   "metadata": {},
   "outputs": [],
   "source": [
    "import pandas as pd\n",
    "import numpy as np\n",
    "import seaborn as sns\n",
    "from matplotlib import pyplot as plt\n",
    "from sklearn.model_selection import train_test_split\n",
    "from sklearn.tree import DecisionTreeRegressor\n",
    "from sklearn.feature_extraction import DictVectorizer\n",
    "from sklearn.metrics import roc_auc_score\n",
    "from sklearn.tree import export_text\n",
    "from IPython.display import display\n",
    "from sklearn.tree import plot_tree\n",
    "from sklearn.metrics import roc_auc_score, mean_squared_error, classification_report\n",
    "from sklearn.ensemble import RandomForestRegressor\n",
    "import xgboost as xgb\n",
    "%matplotlib inline"
   ]
  },
  {
   "cell_type": "markdown",
   "id": "260a02a4",
   "metadata": {},
   "source": [
    "#### Dataset\n",
    "\n",
    "In this homework, we will use the California Housing Prices from [Kaggle](https://www.kaggle.com/datasets/camnugent/california-housing-prices).\n",
    "\n",
    "Here's a wget-able [link](https://raw.githubusercontent.com/alexeygrigorev/datasets/master/housing.csv):\n",
    "\n",
    "```bash\n",
    "wget https://raw.githubusercontent.com/alexeygrigorev/datasets/master/housing.csv\n",
    "```\n",
    "\n",
    "The goal of this homework is to create a regression model for predicting housing prices (column `'median_house_value'`)."
   ]
  },
  {
   "cell_type": "code",
   "execution_count": 2,
   "id": "3a9a043e",
   "metadata": {},
   "outputs": [],
   "source": [
    "data = \"https://raw.githubusercontent.com/alexeygrigorev/datasets/master/housing.csv\""
   ]
  },
  {
   "cell_type": "code",
   "execution_count": 3,
   "id": "bcb6f78f",
   "metadata": {},
   "outputs": [
    {
     "name": "stderr",
     "output_type": "stream",
     "text": [
      "--2023-10-22 21:32:32--  https://raw.githubusercontent.com/alexeygrigorev/datasets/master/housing.csv\n",
      "Resolving raw.githubusercontent.com (raw.githubusercontent.com)... 2606:50c0:8001::154, 2606:50c0:8002::154, 2606:50c0:8000::154, ...\n",
      "Connecting to raw.githubusercontent.com (raw.githubusercontent.com)|2606:50c0:8001::154|:443... connected.\n",
      "HTTP request sent, awaiting response... 200 OK\n",
      "Length: 1423529 (1.4M) [text/plain]\n",
      "Saving to: 'housing.csv.1'\n",
      "\n",
      "     0K .......... .......... .......... .......... ..........  3%  267K 5s\n",
      "    50K .......... .......... .......... .......... ..........  7%  363K 4s\n",
      "   100K .......... .......... .......... .......... .......... 10% 1.16M 3s\n",
      "   150K .......... .......... .......... .......... .......... 14% 1.74M 2s\n",
      "   200K .......... .......... .......... .......... .......... 17%  488K 2s\n",
      "   250K .......... .......... .......... .......... .......... 21% 1.55M 2s\n",
      "   300K .......... .......... .......... .......... .......... 25% 2.42M 2s\n",
      "   350K .......... .......... .......... .......... .......... 28% 1.75M 1s\n",
      "   400K .......... .......... .......... .......... .......... 32% 1.47M 1s\n",
      "   450K .......... .......... .......... .......... .......... 35% 1.63M 1s\n",
      "   500K .......... .......... .......... .......... .......... 39% 1.30M 1s\n",
      "   550K .......... .......... .......... .......... .......... 43% 2.09M 1s\n",
      "   600K .......... .......... .......... .......... .......... 46% 1.39M 1s\n",
      "   650K .......... .......... .......... .......... .......... 50% 2.19M 1s\n",
      "   700K .......... .......... .......... .......... .......... 53% 2.30M 1s\n",
      "   750K .......... .......... .......... .......... .......... 57% 2.27M 1s\n",
      "   800K .......... .......... .......... .......... .......... 61% 2.44M 1s\n",
      "   850K .......... .......... .......... .......... .......... 64% 1.74M 0s\n",
      "   900K .......... .......... .......... .......... .......... 68% 2.26M 0s\n",
      "   950K .......... .......... .......... .......... .......... 71% 1.91M 0s\n",
      "  1000K .......... .......... .......... .......... .......... 75% 2.16M 0s\n",
      "  1050K .......... .......... .......... .......... .......... 79% 1.80M 0s\n",
      "  1100K .......... .......... .......... .......... .......... 82% 1.70M 0s\n",
      "  1150K .......... .......... .......... .......... .......... 86% 2.20M 0s\n",
      "  1200K .......... .......... .......... .......... .......... 89% 1.71M 0s\n",
      "  1250K .......... .......... .......... .......... .......... 93% 1.72M 0s\n",
      "  1300K .......... .......... .......... .......... .......... 97% 1.96M 0s\n",
      "  1350K .......... .......... .......... ..........           100% 2.02M=1.1s\n",
      "\n",
      "2023-10-22 21:32:34 (1.24 MB/s) - 'housing.csv.1' saved [1423529/1423529]\n",
      "\n"
     ]
    }
   ],
   "source": [
    "!wget $data"
   ]
  },
  {
   "cell_type": "markdown",
   "id": "311c91a5",
   "metadata": {},
   "source": [
    "#### Preparing the dataset \n",
    "\n",
    "For this homework, we only want to use a subset of data. This is the same subset we used in homework #2.\n",
    "But in contrast to homework #2, we are going to use all columns of the dataset.\n",
    "\n",
    "First, keep only the records where `ocean_proximity` is either `'<1H OCEAN'` or `'INLAND'`\n",
    "\n",
    "Preparation:\n",
    "\n",
    "* Fill missing values with zeros.\n",
    "* Apply the log transform to `median_house_value`.\n",
    "* Do train/validation/test split with 60%/20%/20% distribution. \n",
    "* Use the `train_test_split` function and set the `random_state` parameter to 1.\n",
    "* Use `DictVectorizer(sparse=True)` to turn the dataframes into matrices.\n"
   ]
  },
  {
   "cell_type": "code",
   "execution_count": 4,
   "id": "922ce891",
   "metadata": {},
   "outputs": [
    {
     "data": {
      "text/html": [
       "<div>\n",
       "<style scoped>\n",
       "    .dataframe tbody tr th:only-of-type {\n",
       "        vertical-align: middle;\n",
       "    }\n",
       "\n",
       "    .dataframe tbody tr th {\n",
       "        vertical-align: top;\n",
       "    }\n",
       "\n",
       "    .dataframe thead th {\n",
       "        text-align: right;\n",
       "    }\n",
       "</style>\n",
       "<table border=\"1\" class=\"dataframe\">\n",
       "  <thead>\n",
       "    <tr style=\"text-align: right;\">\n",
       "      <th></th>\n",
       "      <th>longitude</th>\n",
       "      <th>latitude</th>\n",
       "      <th>housing_median_age</th>\n",
       "      <th>total_rooms</th>\n",
       "      <th>total_bedrooms</th>\n",
       "      <th>population</th>\n",
       "      <th>households</th>\n",
       "      <th>median_income</th>\n",
       "      <th>median_house_value</th>\n",
       "      <th>ocean_proximity</th>\n",
       "    </tr>\n",
       "  </thead>\n",
       "  <tbody>\n",
       "    <tr>\n",
       "      <th>0</th>\n",
       "      <td>-122.23</td>\n",
       "      <td>37.88</td>\n",
       "      <td>41.0</td>\n",
       "      <td>880.0</td>\n",
       "      <td>129.0</td>\n",
       "      <td>322.0</td>\n",
       "      <td>126.0</td>\n",
       "      <td>8.3252</td>\n",
       "      <td>452600.0</td>\n",
       "      <td>NEAR BAY</td>\n",
       "    </tr>\n",
       "    <tr>\n",
       "      <th>1</th>\n",
       "      <td>-122.22</td>\n",
       "      <td>37.86</td>\n",
       "      <td>21.0</td>\n",
       "      <td>7099.0</td>\n",
       "      <td>1106.0</td>\n",
       "      <td>2401.0</td>\n",
       "      <td>1138.0</td>\n",
       "      <td>8.3014</td>\n",
       "      <td>358500.0</td>\n",
       "      <td>NEAR BAY</td>\n",
       "    </tr>\n",
       "    <tr>\n",
       "      <th>2</th>\n",
       "      <td>-122.24</td>\n",
       "      <td>37.85</td>\n",
       "      <td>52.0</td>\n",
       "      <td>1467.0</td>\n",
       "      <td>190.0</td>\n",
       "      <td>496.0</td>\n",
       "      <td>177.0</td>\n",
       "      <td>7.2574</td>\n",
       "      <td>352100.0</td>\n",
       "      <td>NEAR BAY</td>\n",
       "    </tr>\n",
       "    <tr>\n",
       "      <th>3</th>\n",
       "      <td>-122.25</td>\n",
       "      <td>37.85</td>\n",
       "      <td>52.0</td>\n",
       "      <td>1274.0</td>\n",
       "      <td>235.0</td>\n",
       "      <td>558.0</td>\n",
       "      <td>219.0</td>\n",
       "      <td>5.6431</td>\n",
       "      <td>341300.0</td>\n",
       "      <td>NEAR BAY</td>\n",
       "    </tr>\n",
       "    <tr>\n",
       "      <th>4</th>\n",
       "      <td>-122.25</td>\n",
       "      <td>37.85</td>\n",
       "      <td>52.0</td>\n",
       "      <td>1627.0</td>\n",
       "      <td>280.0</td>\n",
       "      <td>565.0</td>\n",
       "      <td>259.0</td>\n",
       "      <td>3.8462</td>\n",
       "      <td>342200.0</td>\n",
       "      <td>NEAR BAY</td>\n",
       "    </tr>\n",
       "    <tr>\n",
       "      <th>...</th>\n",
       "      <td>...</td>\n",
       "      <td>...</td>\n",
       "      <td>...</td>\n",
       "      <td>...</td>\n",
       "      <td>...</td>\n",
       "      <td>...</td>\n",
       "      <td>...</td>\n",
       "      <td>...</td>\n",
       "      <td>...</td>\n",
       "      <td>...</td>\n",
       "    </tr>\n",
       "    <tr>\n",
       "      <th>20635</th>\n",
       "      <td>-121.09</td>\n",
       "      <td>39.48</td>\n",
       "      <td>25.0</td>\n",
       "      <td>1665.0</td>\n",
       "      <td>374.0</td>\n",
       "      <td>845.0</td>\n",
       "      <td>330.0</td>\n",
       "      <td>1.5603</td>\n",
       "      <td>78100.0</td>\n",
       "      <td>INLAND</td>\n",
       "    </tr>\n",
       "    <tr>\n",
       "      <th>20636</th>\n",
       "      <td>-121.21</td>\n",
       "      <td>39.49</td>\n",
       "      <td>18.0</td>\n",
       "      <td>697.0</td>\n",
       "      <td>150.0</td>\n",
       "      <td>356.0</td>\n",
       "      <td>114.0</td>\n",
       "      <td>2.5568</td>\n",
       "      <td>77100.0</td>\n",
       "      <td>INLAND</td>\n",
       "    </tr>\n",
       "    <tr>\n",
       "      <th>20637</th>\n",
       "      <td>-121.22</td>\n",
       "      <td>39.43</td>\n",
       "      <td>17.0</td>\n",
       "      <td>2254.0</td>\n",
       "      <td>485.0</td>\n",
       "      <td>1007.0</td>\n",
       "      <td>433.0</td>\n",
       "      <td>1.7000</td>\n",
       "      <td>92300.0</td>\n",
       "      <td>INLAND</td>\n",
       "    </tr>\n",
       "    <tr>\n",
       "      <th>20638</th>\n",
       "      <td>-121.32</td>\n",
       "      <td>39.43</td>\n",
       "      <td>18.0</td>\n",
       "      <td>1860.0</td>\n",
       "      <td>409.0</td>\n",
       "      <td>741.0</td>\n",
       "      <td>349.0</td>\n",
       "      <td>1.8672</td>\n",
       "      <td>84700.0</td>\n",
       "      <td>INLAND</td>\n",
       "    </tr>\n",
       "    <tr>\n",
       "      <th>20639</th>\n",
       "      <td>-121.24</td>\n",
       "      <td>39.37</td>\n",
       "      <td>16.0</td>\n",
       "      <td>2785.0</td>\n",
       "      <td>616.0</td>\n",
       "      <td>1387.0</td>\n",
       "      <td>530.0</td>\n",
       "      <td>2.3886</td>\n",
       "      <td>89400.0</td>\n",
       "      <td>INLAND</td>\n",
       "    </tr>\n",
       "  </tbody>\n",
       "</table>\n",
       "<p>20640 rows × 10 columns</p>\n",
       "</div>"
      ],
      "text/plain": [
       "       longitude  latitude  housing_median_age  total_rooms  total_bedrooms  \\\n",
       "0        -122.23     37.88                41.0        880.0           129.0   \n",
       "1        -122.22     37.86                21.0       7099.0          1106.0   \n",
       "2        -122.24     37.85                52.0       1467.0           190.0   \n",
       "3        -122.25     37.85                52.0       1274.0           235.0   \n",
       "4        -122.25     37.85                52.0       1627.0           280.0   \n",
       "...          ...       ...                 ...          ...             ...   \n",
       "20635    -121.09     39.48                25.0       1665.0           374.0   \n",
       "20636    -121.21     39.49                18.0        697.0           150.0   \n",
       "20637    -121.22     39.43                17.0       2254.0           485.0   \n",
       "20638    -121.32     39.43                18.0       1860.0           409.0   \n",
       "20639    -121.24     39.37                16.0       2785.0           616.0   \n",
       "\n",
       "       population  households  median_income  median_house_value  \\\n",
       "0           322.0       126.0         8.3252            452600.0   \n",
       "1          2401.0      1138.0         8.3014            358500.0   \n",
       "2           496.0       177.0         7.2574            352100.0   \n",
       "3           558.0       219.0         5.6431            341300.0   \n",
       "4           565.0       259.0         3.8462            342200.0   \n",
       "...           ...         ...            ...                 ...   \n",
       "20635       845.0       330.0         1.5603             78100.0   \n",
       "20636       356.0       114.0         2.5568             77100.0   \n",
       "20637      1007.0       433.0         1.7000             92300.0   \n",
       "20638       741.0       349.0         1.8672             84700.0   \n",
       "20639      1387.0       530.0         2.3886             89400.0   \n",
       "\n",
       "      ocean_proximity  \n",
       "0            NEAR BAY  \n",
       "1            NEAR BAY  \n",
       "2            NEAR BAY  \n",
       "3            NEAR BAY  \n",
       "4            NEAR BAY  \n",
       "...               ...  \n",
       "20635          INLAND  \n",
       "20636          INLAND  \n",
       "20637          INLAND  \n",
       "20638          INLAND  \n",
       "20639          INLAND  \n",
       "\n",
       "[20640 rows x 10 columns]"
      ]
     },
     "execution_count": 4,
     "metadata": {},
     "output_type": "execute_result"
    }
   ],
   "source": [
    "df = pd.read_csv(data)\n",
    "df"
   ]
  },
  {
   "cell_type": "code",
   "execution_count": 5,
   "id": "7f7ae9cf",
   "metadata": {},
   "outputs": [],
   "source": [
    "df=df.fillna(0)"
   ]
  },
  {
   "cell_type": "code",
   "execution_count": 6,
   "id": "5be7a2ea",
   "metadata": {},
   "outputs": [],
   "source": [
    "df = df[(df['ocean_proximity'] == '<1H OCEAN') | (df['ocean_proximity'] == 'INLAND')]"
   ]
  },
  {
   "cell_type": "code",
   "execution_count": 7,
   "id": "faf19226",
   "metadata": {},
   "outputs": [],
   "source": [
    "df['median_house_value'] = np.log1p(df['median_house_value'])"
   ]
  },
  {
   "cell_type": "code",
   "execution_count": 8,
   "id": "fb457f0f",
   "metadata": {},
   "outputs": [],
   "source": [
    "df_full_train,df_test = train_test_split(df,test_size = 0.2, random_state = 1)\n",
    "df_train, df_val = train_test_split(df_full_train, test_size = 0.25,random_state = 1)"
   ]
  },
  {
   "cell_type": "code",
   "execution_count": 9,
   "id": "d8db3be9",
   "metadata": {},
   "outputs": [],
   "source": [
    "df_train = df_train.reset_index(drop=True)\n",
    "df_test = df_test.reset_index(drop=True)\n",
    "df_val = df_val.reset_index(drop=True)"
   ]
  },
  {
   "cell_type": "code",
   "execution_count": 10,
   "id": "103ee512",
   "metadata": {},
   "outputs": [],
   "source": [
    "y_train = df_train.median_house_value.values\n",
    "y_test = df_test.median_house_value.values\n",
    "y_val = df_val.median_house_value.values"
   ]
  },
  {
   "cell_type": "code",
   "execution_count": 11,
   "id": "bce519e8",
   "metadata": {},
   "outputs": [],
   "source": [
    "del df_train['median_house_value']\n",
    "del df_test['median_house_value']\n",
    "del df_val['median_house_value']"
   ]
  },
  {
   "cell_type": "code",
   "execution_count": 12,
   "id": "de380465",
   "metadata": {},
   "outputs": [],
   "source": [
    "dv = DictVectorizer(sparse=True)"
   ]
  },
  {
   "cell_type": "code",
   "execution_count": 13,
   "id": "70e41c2a",
   "metadata": {},
   "outputs": [],
   "source": [
    "X_train = dv.fit_transform(df_train[df_train.columns].to_dict(orient='records'))\n",
    "X_test = dv.fit_transform(df_test[df_test.columns].to_dict(orient='records'))\n",
    "X_val = dv.fit_transform(df_val[df_val.columns].to_dict(orient='records'))"
   ]
  },
  {
   "cell_type": "markdown",
   "id": "3f39a65f",
   "metadata": {},
   "source": [
    "#### Question 1\n",
    "\n",
    "Let's train a decision tree regressor to predict the `median_house_value` variable. \n",
    "\n",
    "* Train a model with `max_depth=1`.\n",
    "\n",
    "\n",
    "Which feature is used for splitting the data?\n",
    "\n",
    "* `ocean_proximity`\n",
    "* `total_rooms`\n",
    "* `latitude`\n",
    "* `population`"
   ]
  },
  {
   "cell_type": "code",
   "execution_count": 14,
   "id": "38797cef",
   "metadata": {},
   "outputs": [],
   "source": [
    "model = DecisionTreeRegressor(max_depth=1)"
   ]
  },
  {
   "cell_type": "code",
   "execution_count": 15,
   "id": "dd278758",
   "metadata": {},
   "outputs": [
    {
     "data": {
      "text/html": [
       "<style>#sk-container-id-1 {color: black;background-color: white;}#sk-container-id-1 pre{padding: 0;}#sk-container-id-1 div.sk-toggleable {background-color: white;}#sk-container-id-1 label.sk-toggleable__label {cursor: pointer;display: block;width: 100%;margin-bottom: 0;padding: 0.3em;box-sizing: border-box;text-align: center;}#sk-container-id-1 label.sk-toggleable__label-arrow:before {content: \"▸\";float: left;margin-right: 0.25em;color: #696969;}#sk-container-id-1 label.sk-toggleable__label-arrow:hover:before {color: black;}#sk-container-id-1 div.sk-estimator:hover label.sk-toggleable__label-arrow:before {color: black;}#sk-container-id-1 div.sk-toggleable__content {max-height: 0;max-width: 0;overflow: hidden;text-align: left;background-color: #f0f8ff;}#sk-container-id-1 div.sk-toggleable__content pre {margin: 0.2em;color: black;border-radius: 0.25em;background-color: #f0f8ff;}#sk-container-id-1 input.sk-toggleable__control:checked~div.sk-toggleable__content {max-height: 200px;max-width: 100%;overflow: auto;}#sk-container-id-1 input.sk-toggleable__control:checked~label.sk-toggleable__label-arrow:before {content: \"▾\";}#sk-container-id-1 div.sk-estimator input.sk-toggleable__control:checked~label.sk-toggleable__label {background-color: #d4ebff;}#sk-container-id-1 div.sk-label input.sk-toggleable__control:checked~label.sk-toggleable__label {background-color: #d4ebff;}#sk-container-id-1 input.sk-hidden--visually {border: 0;clip: rect(1px 1px 1px 1px);clip: rect(1px, 1px, 1px, 1px);height: 1px;margin: -1px;overflow: hidden;padding: 0;position: absolute;width: 1px;}#sk-container-id-1 div.sk-estimator {font-family: monospace;background-color: #f0f8ff;border: 1px dotted black;border-radius: 0.25em;box-sizing: border-box;margin-bottom: 0.5em;}#sk-container-id-1 div.sk-estimator:hover {background-color: #d4ebff;}#sk-container-id-1 div.sk-parallel-item::after {content: \"\";width: 100%;border-bottom: 1px solid gray;flex-grow: 1;}#sk-container-id-1 div.sk-label:hover label.sk-toggleable__label {background-color: #d4ebff;}#sk-container-id-1 div.sk-serial::before {content: \"\";position: absolute;border-left: 1px solid gray;box-sizing: border-box;top: 0;bottom: 0;left: 50%;z-index: 0;}#sk-container-id-1 div.sk-serial {display: flex;flex-direction: column;align-items: center;background-color: white;padding-right: 0.2em;padding-left: 0.2em;position: relative;}#sk-container-id-1 div.sk-item {position: relative;z-index: 1;}#sk-container-id-1 div.sk-parallel {display: flex;align-items: stretch;justify-content: center;background-color: white;position: relative;}#sk-container-id-1 div.sk-item::before, #sk-container-id-1 div.sk-parallel-item::before {content: \"\";position: absolute;border-left: 1px solid gray;box-sizing: border-box;top: 0;bottom: 0;left: 50%;z-index: -1;}#sk-container-id-1 div.sk-parallel-item {display: flex;flex-direction: column;z-index: 1;position: relative;background-color: white;}#sk-container-id-1 div.sk-parallel-item:first-child::after {align-self: flex-end;width: 50%;}#sk-container-id-1 div.sk-parallel-item:last-child::after {align-self: flex-start;width: 50%;}#sk-container-id-1 div.sk-parallel-item:only-child::after {width: 0;}#sk-container-id-1 div.sk-dashed-wrapped {border: 1px dashed gray;margin: 0 0.4em 0.5em 0.4em;box-sizing: border-box;padding-bottom: 0.4em;background-color: white;}#sk-container-id-1 div.sk-label label {font-family: monospace;font-weight: bold;display: inline-block;line-height: 1.2em;}#sk-container-id-1 div.sk-label-container {text-align: center;}#sk-container-id-1 div.sk-container {/* jupyter's `normalize.less` sets `[hidden] { display: none; }` but bootstrap.min.css set `[hidden] { display: none !important; }` so we also need the `!important` here to be able to override the default hidden behavior on the sphinx rendered scikit-learn.org. See: https://github.com/scikit-learn/scikit-learn/issues/21755 */display: inline-block !important;position: relative;}#sk-container-id-1 div.sk-text-repr-fallback {display: none;}</style><div id=\"sk-container-id-1\" class=\"sk-top-container\"><div class=\"sk-text-repr-fallback\"><pre>DecisionTreeRegressor(max_depth=1)</pre><b>In a Jupyter environment, please rerun this cell to show the HTML representation or trust the notebook. <br />On GitHub, the HTML representation is unable to render, please try loading this page with nbviewer.org.</b></div><div class=\"sk-container\" hidden><div class=\"sk-item\"><div class=\"sk-estimator sk-toggleable\"><input class=\"sk-toggleable__control sk-hidden--visually\" id=\"sk-estimator-id-1\" type=\"checkbox\" checked><label for=\"sk-estimator-id-1\" class=\"sk-toggleable__label sk-toggleable__label-arrow\">DecisionTreeRegressor</label><div class=\"sk-toggleable__content\"><pre>DecisionTreeRegressor(max_depth=1)</pre></div></div></div></div></div>"
      ],
      "text/plain": [
       "DecisionTreeRegressor(max_depth=1)"
      ]
     },
     "execution_count": 15,
     "metadata": {},
     "output_type": "execute_result"
    }
   ],
   "source": [
    "model.fit(X_train,y_train)"
   ]
  },
  {
   "cell_type": "code",
   "execution_count": 16,
   "id": "b7320a0c",
   "metadata": {},
   "outputs": [],
   "source": [
    "y_pred = model.predict(X_val)"
   ]
  },
  {
   "cell_type": "code",
   "execution_count": 17,
   "id": "2e66b394",
   "metadata": {},
   "outputs": [],
   "source": [
    "mse = mean_squared_error(y_val, y_pred)"
   ]
  },
  {
   "cell_type": "code",
   "execution_count": 18,
   "id": "37c8390c",
   "metadata": {},
   "outputs": [
    {
     "name": "stdout",
     "output_type": "stream",
     "text": [
      "Mean Squared Error (MSE): 0.20\n"
     ]
    }
   ],
   "source": [
    "print(f\"Mean Squared Error (MSE): {mse:.2f}\")"
   ]
  },
  {
   "cell_type": "code",
   "execution_count": 19,
   "id": "a1a17f17",
   "metadata": {},
   "outputs": [
    {
     "data": {
      "image/png": "[encoded data removed]",
      "text/plain": [
       "<Figure size 1000x600 with 1 Axes>"
      ]
     },
     "metadata": {},
     "output_type": "display_data"
    }
   ],
   "source": [
    "plt.figure(figsize=(10, 6))\n",
    "plot_tree(model, filled=True, feature_names=dv.get_feature_names_out(input_features=df.columns))\n",
    "plt.show()"
   ]
  },
  {
   "cell_type": "markdown",
   "id": "54bf8ca6",
   "metadata": {},
   "source": [
    "#### Ans: Ocean proximity"
   ]
  },
  {
   "cell_type": "markdown",
   "id": "fc199f1f",
   "metadata": {},
   "source": [
    "#### Question 2\n",
    "\n",
    "Train a random forest model with these parameters:\n",
    "\n",
    "* `n_estimators=10`\n",
    "* `random_state=1`\n",
    "* `n_jobs=-1` (optional - to make training faster)\n",
    "\n",
    "\n",
    "What's the RMSE of this model on validation?\n",
    "\n",
    "* 0.045\n",
    "* 0.245\n",
    "* 0.545\n",
    "* 0.845"
   ]
  },
  {
   "cell_type": "code",
   "execution_count": 20,
   "id": "fd49e2a6",
   "metadata": {},
   "outputs": [],
   "source": [
    "random_forest = RandomForestRegressor(n_estimators=10,random_state=1,n_jobs=-1)"
   ]
  },
  {
   "cell_type": "code",
   "execution_count": 21,
   "id": "2e482b5f",
   "metadata": {},
   "outputs": [
    {
     "data": {
      "text/html": [
       "<style>#sk-container-id-2 {color: black;background-color: white;}#sk-container-id-2 pre{padding: 0;}#sk-container-id-2 div.sk-toggleable {background-color: white;}#sk-container-id-2 label.sk-toggleable__label {cursor: pointer;display: block;width: 100%;margin-bottom: 0;padding: 0.3em;box-sizing: border-box;text-align: center;}#sk-container-id-2 label.sk-toggleable__label-arrow:before {content: \"▸\";float: left;margin-right: 0.25em;color: #696969;}#sk-container-id-2 label.sk-toggleable__label-arrow:hover:before {color: black;}#sk-container-id-2 div.sk-estimator:hover label.sk-toggleable__label-arrow:before {color: black;}#sk-container-id-2 div.sk-toggleable__content {max-height: 0;max-width: 0;overflow: hidden;text-align: left;background-color: #f0f8ff;}#sk-container-id-2 div.sk-toggleable__content pre {margin: 0.2em;color: black;border-radius: 0.25em;background-color: #f0f8ff;}#sk-container-id-2 input.sk-toggleable__control:checked~div.sk-toggleable__content {max-height: 200px;max-width: 100%;overflow: auto;}#sk-container-id-2 input.sk-toggleable__control:checked~label.sk-toggleable__label-arrow:before {content: \"▾\";}#sk-container-id-2 div.sk-estimator input.sk-toggleable__control:checked~label.sk-toggleable__label {background-color: #d4ebff;}#sk-container-id-2 div.sk-label input.sk-toggleable__control:checked~label.sk-toggleable__label {background-color: #d4ebff;}#sk-container-id-2 input.sk-hidden--visually {border: 0;clip: rect(1px 1px 1px 1px);clip: rect(1px, 1px, 1px, 1px);height: 1px;margin: -1px;overflow: hidden;padding: 0;position: absolute;width: 1px;}#sk-container-id-2 div.sk-estimator {font-family: monospace;background-color: #f0f8ff;border: 1px dotted black;border-radius: 0.25em;box-sizing: border-box;margin-bottom: 0.5em;}#sk-container-id-2 div.sk-estimator:hover {background-color: #d4ebff;}#sk-container-id-2 div.sk-parallel-item::after {content: \"\";width: 100%;border-bottom: 1px solid gray;flex-grow: 1;}#sk-container-id-2 div.sk-label:hover label.sk-toggleable__label {background-color: #d4ebff;}#sk-container-id-2 div.sk-serial::before {content: \"\";position: absolute;border-left: 1px solid gray;box-sizing: border-box;top: 0;bottom: 0;left: 50%;z-index: 0;}#sk-container-id-2 div.sk-serial {display: flex;flex-direction: column;align-items: center;background-color: white;padding-right: 0.2em;padding-left: 0.2em;position: relative;}#sk-container-id-2 div.sk-item {position: relative;z-index: 1;}#sk-container-id-2 div.sk-parallel {display: flex;align-items: stretch;justify-content: center;background-color: white;position: relative;}#sk-container-id-2 div.sk-item::before, #sk-container-id-2 div.sk-parallel-item::before {content: \"\";position: absolute;border-left: 1px solid gray;box-sizing: border-box;top: 0;bottom: 0;left: 50%;z-index: -1;}#sk-container-id-2 div.sk-parallel-item {display: flex;flex-direction: column;z-index: 1;position: relative;background-color: white;}#sk-container-id-2 div.sk-parallel-item:first-child::after {align-self: flex-end;width: 50%;}#sk-container-id-2 div.sk-parallel-item:last-child::after {align-self: flex-start;width: 50%;}#sk-container-id-2 div.sk-parallel-item:only-child::after {width: 0;}#sk-container-id-2 div.sk-dashed-wrapped {border: 1px dashed gray;margin: 0 0.4em 0.5em 0.4em;box-sizing: border-box;padding-bottom: 0.4em;background-color: white;}#sk-container-id-2 div.sk-label label {font-family: monospace;font-weight: bold;display: inline-block;line-height: 1.2em;}#sk-container-id-2 div.sk-label-container {text-align: center;}#sk-container-id-2 div.sk-container {/* jupyter's `normalize.less` sets `[hidden] { display: none; }` but bootstrap.min.css set `[hidden] { display: none !important; }` so we also need the `!important` here to be able to override the default hidden behavior on the sphinx rendered scikit-learn.org. See: https://github.com/scikit-learn/scikit-learn/issues/21755 */display: inline-block !important;position: relative;}#sk-container-id-2 div.sk-text-repr-fallback {display: none;}</style><div id=\"sk-container-id-2\" class=\"sk-top-container\"><div class=\"sk-text-repr-fallback\"><pre>RandomForestRegressor(n_estimators=10, n_jobs=-1, random_state=1)</pre><b>In a Jupyter environment, please rerun this cell to show the HTML representation or trust the notebook. <br />On GitHub, the HTML representation is unable to render, please try loading this page with nbviewer.org.</b></div><div class=\"sk-container\" hidden><div class=\"sk-item\"><div class=\"sk-estimator sk-toggleable\"><input class=\"sk-toggleable__control sk-hidden--visually\" id=\"sk-estimator-id-2\" type=\"checkbox\" checked><label for=\"sk-estimator-id-2\" class=\"sk-toggleable__label sk-toggleable__label-arrow\">RandomForestRegressor</label><div class=\"sk-toggleable__content\"><pre>RandomForestRegressor(n_estimators=10, n_jobs=-1, random_state=1)</pre></div></div></div></div></div>"
      ],
      "text/plain": [
       "RandomForestRegressor(n_estimators=10, n_jobs=-1, random_state=1)"
      ]
     },
     "execution_count": 21,
     "metadata": {},
     "output_type": "execute_result"
    }
   ],
   "source": [
    "random_forest.fit(X_train,y_train)"
   ]
  },
  {
   "cell_type": "code",
   "execution_count": 22,
   "id": "ef957f66",
   "metadata": {},
   "outputs": [],
   "source": [
    "y_pred = random_forest.predict(X_val)"
   ]
  },
  {
   "cell_type": "code",
   "execution_count": 23,
   "id": "d062a3af",
   "metadata": {},
   "outputs": [
    {
     "name": "stdout",
     "output_type": "stream",
     "text": [
      "Root Mean Squared Error (RMSE): 0.245\n"
     ]
    }
   ],
   "source": [
    "rmse = (mean_squared_error(y_val, y_pred))**(1/2)\n",
    "print(f\"Root Mean Squared Error (RMSE): {rmse:.3f}\")"
   ]
  },
  {
   "cell_type": "markdown",
   "id": "235ada88",
   "metadata": {},
   "source": [
    "#### Question 3\n",
    "\n",
    "Now let's experiment with the `n_estimators` parameter\n",
    "\n",
    "* Try different values of this parameter from 10 to 200 with step 10.\n",
    "* Set `random_state` to `1`.\n",
    "* Evaluate the model on the validation dataset.\n",
    "\n",
    "\n",
    "After which value of `n_estimators` does RMSE stop improving?\n",
    "Consider 3 decimal places for retrieving the answer.\n",
    "\n",
    "- 10\n",
    "- 25\n",
    "- 50\n",
    "- 160"
   ]
  },
  {
   "cell_type": "code",
   "execution_count": 25,
   "id": "96dd98f5",
   "metadata": {},
   "outputs": [
    {
     "name": "stdout",
     "output_type": "stream",
     "text": [
      "n_estimators:10 | RMSE: 0.245\n",
      "n_estimators:20 | RMSE: 0.239\n",
      "n_estimators:30 | RMSE: 0.237\n",
      "n_estimators:40 | RMSE: 0.236\n",
      "n_estimators:50 | RMSE: 0.235\n",
      "n_estimators:60 | RMSE: 0.235\n",
      "n_estimators:70 | RMSE: 0.234\n",
      "n_estimators:80 | RMSE: 0.235\n",
      "n_estimators:90 | RMSE: 0.235\n",
      "n_estimators:100 | RMSE: 0.234\n",
      "n_estimators:110 | RMSE: 0.234\n",
      "n_estimators:120 | RMSE: 0.234\n",
      "n_estimators:130 | RMSE: 0.234\n",
      "n_estimators:140 | RMSE: 0.234\n",
      "n_estimators:150 | RMSE: 0.234\n",
      "n_estimators:160 | RMSE: 0.233\n",
      "n_estimators:170 | RMSE: 0.233\n",
      "n_estimators:180 | RMSE: 0.234\n",
      "n_estimators:190 | RMSE: 0.234\n"
     ]
    }
   ],
   "source": [
    "for n_estimators in range(10,200,10):\n",
    "    random_forest = RandomForestRegressor(n_estimators=n_estimators, random_state=1, n_jobs=-1)\n",
    "    random_forest.fit(X_train, y_train)\n",
    "    y_pred = random_forest.predict(X_val)\n",
    "    rmse = (mean_squared_error(y_val, y_pred)) ** (1 / 2)\n",
    "    print(f\"n_estimators:{n_estimators} | RMSE: {rmse:.3f}\")"
   ]
  },
  {
   "cell_type": "markdown",
   "id": "d7aed1b6",
   "metadata": {},
   "source": [
    "#### Ans: 160"
   ]
  },
  {
   "cell_type": "markdown",
   "id": "7ee419a0",
   "metadata": {},
   "source": [
    "#### Question 4\n",
    "\n",
    "Let's select the best `max_depth`:\n",
    "\n",
    "* Try different values of `max_depth`: `[10, 15, 20, 25]`\n",
    "* For each of these values,\n",
    "  * try different values of `n_estimators` from 10 till 200 (with step 10)\n",
    "  * calculate the mean RMSE \n",
    "* Fix the random seed: `random_state=1`\n",
    "\n",
    "\n",
    "What's the best `max_depth`, using the mean RMSE?\n",
    "\n",
    "* 10\n",
    "* 15\n",
    "* 20\n",
    "* 25"
   ]
  },
  {
   "cell_type": "code",
   "execution_count": 30,
   "id": "17813964",
   "metadata": {},
   "outputs": [
    {
     "name": "stdout",
     "output_type": "stream",
     "text": [
      "max_depth:10 | RMSE: 0.245\n",
      "max_depth:15 | RMSE: 0.242\n",
      "max_depth:20 | RMSE: 0.239\n",
      "max_depth:25 | RMSE: 0.238\n"
     ]
    }
   ],
   "source": [
    "for max_depth in [10,15,20,25]:\n",
    "    random_forest = RandomForestRegressor(max_depth, random_state=1, n_jobs=-1)\n",
    "    random_forest.fit(X_train, y_train)\n",
    "    y_pred = random_forest.predict(X_val)\n",
    "    rmse = (mean_squared_error(y_val, y_pred)) ** (1 / 2)\n",
    "    print(f\"max_depth:{max_depth} | RMSE: {rmse:.3f}\")"
   ]
  },
  {
   "cell_type": "markdown",
   "id": "87624990",
   "metadata": {},
   "source": [
    "#### Question 5\n",
    "\n",
    "We can extract feature importance information from tree-based models. \n",
    "\n",
    "At each step of the decision tree learning algorithm, it finds the best split. \n",
    "When doing it, we can calculate \"gain\" - the reduction in impurity before and after the split. \n",
    "This gain is quite useful in understanding what are the important features for tree-based models.\n",
    "\n",
    "In Scikit-Learn, tree-based models contain this information in the\n",
    "[`feature_importances_`](https://scikit-learn.org/stable/modules/generated/sklearn.ensemble.RandomForestRegressor.html#sklearn.ensemble.RandomForestRegressor.feature_importances_)\n",
    "field. \n",
    "\n",
    "For this homework question, we'll find the most important feature:\n",
    "\n",
    "* Train the model with these parameters:\n",
    "  * `n_estimators=10`,\n",
    "  * `max_depth=20`,\n",
    "  * `random_state=1`,\n",
    "  * `n_jobs=-1` (optional)\n",
    "* Get the feature importance information from this model\n",
    "\n",
    "\n",
    "What's the most important feature (among these 4)? \n",
    "\n",
    "* `total_rooms`\n",
    "* `median_income`\n",
    "* `total_bedrooms`\n",
    "* `longitude`\n"
   ]
  },
  {
   "cell_type": "code",
   "execution_count": 31,
   "id": "b92178d5",
   "metadata": {},
   "outputs": [
    {
     "name": "stdout",
     "output_type": "stream",
     "text": [
      "Mean Squared Error (MSE): 0.06\n",
      "Feature: total_bedrooms, Importance: 0.3356\n",
      "Feature: population, Importance: 0.2925\n",
      "Feature: housing_median_age, Importance: 0.1020\n",
      "Feature: total_rooms, Importance: 0.0862\n",
      "Feature: households, Importance: 0.0738\n",
      "Feature: latitude, Importance: 0.0303\n",
      "Feature: median_income, Importance: 0.0271\n",
      "Feature: ocean_proximity, Importance: 0.0159\n",
      "Feature: longitude, Importance: 0.0151\n"
     ]
    }
   ],
   "source": [
    "model = RandomForestRegressor(n_estimators=10, max_depth=20, random_state=1, n_jobs=-1)\n",
    "model.fit(X_train, y_train)\n",
    "y_pred = model.predict(X_val)\n",
    "mse = mean_squared_error(y_val, y_pred)\n",
    "print(f\"Mean Squared Error (MSE): {mse:.2f}\")\n",
    "\n",
    "feature_names = df_train.columns\n",
    "feature_importances = model.feature_importances_\n",
    "feature_importance_dict = dict(zip(feature_names, feature_importances))\n",
    "sorted_feature_importance = sorted(feature_importance_dict.items(), key=lambda x: x[1], reverse=True)\n",
    "for feature, importance in sorted_feature_importance:\n",
    "    print(f\"Feature: {feature}, Importance: {importance:.4f}\")"
   ]
  },
  {
   "cell_type": "markdown",
   "id": "3d7b7a57",
   "metadata": {},
   "source": [
    "#### Ans:total_bedrooms"
   ]
  },
  {
   "cell_type": "markdown",
   "id": "dfe3960b",
   "metadata": {},
   "source": [
    "#### Question 6\n",
    "\n",
    "Now let's train an XGBoost model! For this question, we'll tune the `eta` parameter:\n",
    "\n",
    "* Install XGBoost\n",
    "* Create DMatrix for train and validation\n",
    "* Create a watchlist\n",
    "* Train a model with these parameters for 100 rounds:\n",
    "\n",
    "```\n",
    "xgb_params = {\n",
    "    'eta': 0.3, \n",
    "    'max_depth': 6,\n",
    "    'min_child_weight': 1,\n",
    "    \n",
    "    'objective': 'reg:squarederror',\n",
    "    'nthread': 8,\n",
    "    \n",
    "    'seed': 1,\n",
    "    'verbosity': 1,\n",
    "}\n",
    "```\n",
    "\n",
    "Now change `eta` from `0.3` to `0.1`.\n",
    "\n",
    "Which eta leads to the best RMSE score on the validation dataset?\n",
    "\n",
    "* 0.3\n",
    "* 0.1\n",
    "* Both give equal value\n"
   ]
  },
  {
   "cell_type": "code",
   "execution_count": 32,
   "id": "40b98eab",
   "metadata": {},
   "outputs": [],
   "source": [
    "xgb_params = {\n",
    "    'eta': 0.3, \n",
    "    'max_depth': 6,\n",
    "    'min_child_weight': 1,\n",
    "    \n",
    "    'objective': 'reg:squarederror',\n",
    "    'nthread': 8,\n",
    "    \n",
    "    'seed': 1,\n",
    "    'verbosity': 1,\n",
    "}"
   ]
  },
  {
   "cell_type": "code",
   "execution_count": 34,
   "id": "b4e5dd85",
   "metadata": {},
   "outputs": [],
   "source": [
    "# Create DMatrix for the training and validation sets\n",
    "dtrain = xgb.DMatrix(X_train, label=y_train)\n",
    "dval = xgb.DMatrix(X_val, label=y_val)"
   ]
  },
  {
   "cell_type": "code",
   "execution_count": 35,
   "id": "ad24ffbf",
   "metadata": {},
   "outputs": [],
   "source": [
    "# Create a watchlist\n",
    "watchlist = [(dtrain, 'train'), (dval, 'validation')]"
   ]
  },
  {
   "cell_type": "code",
   "execution_count": 36,
   "id": "e22abc13",
   "metadata": {},
   "outputs": [
    {
     "name": "stdout",
     "output_type": "stream",
     "text": [
      "[0]\ttrain-rmse:0.44350\tvalidation-rmse:0.44250\n",
      "[1]\ttrain-rmse:0.36599\tvalidation-rmse:0.36916\n",
      "[2]\ttrain-rmse:0.31556\tvalidation-rmse:0.32382\n",
      "[3]\ttrain-rmse:0.28541\tvalidation-rmse:0.29965\n",
      "[4]\ttrain-rmse:0.26573\tvalidation-rmse:0.28417\n",
      "[5]\ttrain-rmse:0.25338\tvalidation-rmse:0.27463\n",
      "[6]\ttrain-rmse:0.24157\tvalidation-rmse:0.26770\n",
      "[7]\ttrain-rmse:0.23486\tvalidation-rmse:0.26423\n",
      "[8]\ttrain-rmse:0.22668\tvalidation-rmse:0.25820\n",
      "[9]\ttrain-rmse:0.21995\tvalidation-rmse:0.25444\n",
      "[10]\ttrain-rmse:0.21444\tvalidation-rmse:0.25179\n",
      "[11]\ttrain-rmse:0.21155\tvalidation-rmse:0.25054\n",
      "[12]\ttrain-rmse:0.20729\tvalidation-rmse:0.24791\n",
      "[13]\ttrain-rmse:0.20317\tvalidation-rmse:0.24628\n",
      "[14]\ttrain-rmse:0.20135\tvalidation-rmse:0.24630\n",
      "[15]\ttrain-rmse:0.19858\tvalidation-rmse:0.24522\n",
      "[16]\ttrain-rmse:0.19580\tvalidation-rmse:0.24445\n",
      "[17]\ttrain-rmse:0.19333\tvalidation-rmse:0.24395\n",
      "[18]\ttrain-rmse:0.19107\tvalidation-rmse:0.24284\n",
      "[19]\ttrain-rmse:0.18735\tvalidation-rmse:0.24127\n",
      "[20]\ttrain-rmse:0.18524\tvalidation-rmse:0.23978\n",
      "[21]\ttrain-rmse:0.18332\tvalidation-rmse:0.23963\n",
      "[22]\ttrain-rmse:0.18189\tvalidation-rmse:0.23892\n",
      "[23]\ttrain-rmse:0.18006\tvalidation-rmse:0.23847\n",
      "[24]\ttrain-rmse:0.17869\tvalidation-rmse:0.23847\n",
      "[25]\ttrain-rmse:0.17757\tvalidation-rmse:0.23830\n",
      "[26]\ttrain-rmse:0.17520\tvalidation-rmse:0.23862\n",
      "[27]\ttrain-rmse:0.17430\tvalidation-rmse:0.23807\n",
      "[28]\ttrain-rmse:0.17281\tvalidation-rmse:0.23793\n",
      "[29]\ttrain-rmse:0.17091\tvalidation-rmse:0.23683\n",
      "[30]\ttrain-rmse:0.16888\tvalidation-rmse:0.23570\n",
      "[31]\ttrain-rmse:0.16727\tvalidation-rmse:0.23505\n",
      "[32]\ttrain-rmse:0.16553\tvalidation-rmse:0.23494\n",
      "[33]\ttrain-rmse:0.16453\tvalidation-rmse:0.23476\n",
      "[34]\ttrain-rmse:0.16292\tvalidation-rmse:0.23490\n",
      "[35]\ttrain-rmse:0.16113\tvalidation-rmse:0.23416\n",
      "[36]\ttrain-rmse:0.15969\tvalidation-rmse:0.23402\n",
      "[37]\ttrain-rmse:0.15859\tvalidation-rmse:0.23362\n",
      "[38]\ttrain-rmse:0.15726\tvalidation-rmse:0.23393\n",
      "[39]\ttrain-rmse:0.15663\tvalidation-rmse:0.23383\n",
      "[40]\ttrain-rmse:0.15542\tvalidation-rmse:0.23318\n",
      "[41]\ttrain-rmse:0.15426\tvalidation-rmse:0.23300\n",
      "[42]\ttrain-rmse:0.15289\tvalidation-rmse:0.23266\n",
      "[43]\ttrain-rmse:0.15189\tvalidation-rmse:0.23252\n",
      "[44]\ttrain-rmse:0.15092\tvalidation-rmse:0.23252\n",
      "[45]\ttrain-rmse:0.14941\tvalidation-rmse:0.23190\n",
      "[46]\ttrain-rmse:0.14856\tvalidation-rmse:0.23178\n",
      "[47]\ttrain-rmse:0.14742\tvalidation-rmse:0.23183\n",
      "[48]\ttrain-rmse:0.14683\tvalidation-rmse:0.23198\n",
      "[49]\ttrain-rmse:0.14629\tvalidation-rmse:0.23206\n",
      "[50]\ttrain-rmse:0.14536\tvalidation-rmse:0.23225\n",
      "[51]\ttrain-rmse:0.14450\tvalidation-rmse:0.23225\n",
      "[52]\ttrain-rmse:0.14353\tvalidation-rmse:0.23223\n",
      "[53]\ttrain-rmse:0.14276\tvalidation-rmse:0.23199\n",
      "[54]\ttrain-rmse:0.14180\tvalidation-rmse:0.23194\n",
      "[55]\ttrain-rmse:0.14150\tvalidation-rmse:0.23197\n",
      "[56]\ttrain-rmse:0.14085\tvalidation-rmse:0.23189\n",
      "[57]\ttrain-rmse:0.14020\tvalidation-rmse:0.23177\n",
      "[58]\ttrain-rmse:0.13931\tvalidation-rmse:0.23175\n",
      "[59]\ttrain-rmse:0.13816\tvalidation-rmse:0.23148\n",
      "[60]\ttrain-rmse:0.13719\tvalidation-rmse:0.23139\n",
      "[61]\ttrain-rmse:0.13640\tvalidation-rmse:0.23179\n",
      "[62]\ttrain-rmse:0.13566\tvalidation-rmse:0.23160\n",
      "[63]\ttrain-rmse:0.13439\tvalidation-rmse:0.23151\n",
      "[64]\ttrain-rmse:0.13358\tvalidation-rmse:0.23153\n",
      "[65]\ttrain-rmse:0.13259\tvalidation-rmse:0.23158\n",
      "[66]\ttrain-rmse:0.13197\tvalidation-rmse:0.23144\n",
      "[67]\ttrain-rmse:0.13175\tvalidation-rmse:0.23148\n",
      "[68]\ttrain-rmse:0.13117\tvalidation-rmse:0.23148\n",
      "[69]\ttrain-rmse:0.13046\tvalidation-rmse:0.23137\n",
      "[70]\ttrain-rmse:0.12943\tvalidation-rmse:0.23068\n",
      "[71]\ttrain-rmse:0.12894\tvalidation-rmse:0.23064\n",
      "[72]\ttrain-rmse:0.12854\tvalidation-rmse:0.23082\n",
      "[73]\ttrain-rmse:0.12741\tvalidation-rmse:0.23059\n",
      "[74]\ttrain-rmse:0.12635\tvalidation-rmse:0.23048\n",
      "[75]\ttrain-rmse:0.12555\tvalidation-rmse:0.23039\n",
      "[76]\ttrain-rmse:0.12395\tvalidation-rmse:0.22935\n",
      "[77]\ttrain-rmse:0.12342\tvalidation-rmse:0.22941\n",
      "[78]\ttrain-rmse:0.12255\tvalidation-rmse:0.22913\n",
      "[79]\ttrain-rmse:0.12220\tvalidation-rmse:0.22889\n",
      "[80]\ttrain-rmse:0.12192\tvalidation-rmse:0.22886\n",
      "[81]\ttrain-rmse:0.12126\tvalidation-rmse:0.22903\n",
      "[82]\ttrain-rmse:0.12056\tvalidation-rmse:0.22891\n",
      "[83]\ttrain-rmse:0.11995\tvalidation-rmse:0.22885\n",
      "[84]\ttrain-rmse:0.11922\tvalidation-rmse:0.22893\n",
      "[85]\ttrain-rmse:0.11854\tvalidation-rmse:0.22888\n",
      "[86]\ttrain-rmse:0.11781\tvalidation-rmse:0.22899\n",
      "[87]\ttrain-rmse:0.11692\tvalidation-rmse:0.22908\n",
      "[88]\ttrain-rmse:0.11613\tvalidation-rmse:0.22905\n",
      "[89]\ttrain-rmse:0.11557\tvalidation-rmse:0.22886\n",
      "[90]\ttrain-rmse:0.11496\tvalidation-rmse:0.22861\n",
      "[91]\ttrain-rmse:0.11461\tvalidation-rmse:0.22874\n",
      "[92]\ttrain-rmse:0.11386\tvalidation-rmse:0.22887\n",
      "[93]\ttrain-rmse:0.11342\tvalidation-rmse:0.22895\n",
      "[94]\ttrain-rmse:0.11281\tvalidation-rmse:0.22904\n",
      "[95]\ttrain-rmse:0.11211\tvalidation-rmse:0.22908\n",
      "[96]\ttrain-rmse:0.11139\tvalidation-rmse:0.22875\n",
      "[97]\ttrain-rmse:0.11089\tvalidation-rmse:0.22864\n",
      "[98]\ttrain-rmse:0.11041\tvalidation-rmse:0.22868\n",
      "[99]\ttrain-rmse:0.10989\tvalidation-rmse:0.22862\n"
     ]
    }
   ],
   "source": [
    "# Train the model with eta = 0.3\n",
    "num_round = 100\n",
    "model_eta_0_3 = xgb.train(xgb_params, dtrain, num_round, evals=watchlist)"
   ]
  },
  {
   "cell_type": "code",
   "execution_count": 37,
   "id": "8dc65412",
   "metadata": {},
   "outputs": [],
   "source": [
    "# Make predictions with the model\n",
    "y_pred_eta_0_3 = model_eta_0_3.predict(dval)"
   ]
  },
  {
   "cell_type": "code",
   "execution_count": 38,
   "id": "245a6e18",
   "metadata": {},
   "outputs": [
    {
     "name": "stdout",
     "output_type": "stream",
     "text": [
      "RMSE (eta = 0.3): 0.22862\n"
     ]
    }
   ],
   "source": [
    "# Calculate RMSE for eta = 0.3\n",
    "rmse_eta_0_3 = mean_squared_error(y_val, y_pred_eta_0_3, squared=False)\n",
    "print(f\"RMSE (eta = 0.3): {rmse_eta_0_3:.5f}\")"
   ]
  },
  {
   "cell_type": "code",
   "execution_count": 39,
   "id": "745a1467",
   "metadata": {},
   "outputs": [],
   "source": [
    "# Now change eta to 0.1\n",
    "xgb_params['eta'] = 0.1"
   ]
  },
  {
   "cell_type": "code",
   "execution_count": 40,
   "id": "b2d7406f",
   "metadata": {},
   "outputs": [
    {
     "name": "stdout",
     "output_type": "stream",
     "text": [
      "[0]\ttrain-rmse:0.52449\tvalidation-rmse:0.52045\n",
      "[1]\ttrain-rmse:0.48736\tvalidation-rmse:0.48443\n",
      "[2]\ttrain-rmse:0.45433\tvalidation-rmse:0.45293\n",
      "[3]\ttrain-rmse:0.42533\tvalidation-rmse:0.42550\n",
      "[4]\ttrain-rmse:0.39987\tvalidation-rmse:0.40144\n",
      "[5]\ttrain-rmse:0.37822\tvalidation-rmse:0.38151\n",
      "[6]\ttrain-rmse:0.35887\tvalidation-rmse:0.36393\n",
      "[7]\ttrain-rmse:0.34177\tvalidation-rmse:0.34838\n",
      "[8]\ttrain-rmse:0.32701\tvalidation-rmse:0.33492\n",
      "[9]\ttrain-rmse:0.31411\tvalidation-rmse:0.32333\n",
      "[10]\ttrain-rmse:0.30326\tvalidation-rmse:0.31427\n",
      "[11]\ttrain-rmse:0.29355\tvalidation-rmse:0.30615\n",
      "[12]\ttrain-rmse:0.28519\tvalidation-rmse:0.29922\n",
      "[13]\ttrain-rmse:0.27760\tvalidation-rmse:0.29269\n",
      "[14]\ttrain-rmse:0.27116\tvalidation-rmse:0.28796\n",
      "[15]\ttrain-rmse:0.26538\tvalidation-rmse:0.28380\n",
      "[16]\ttrain-rmse:0.26012\tvalidation-rmse:0.27970\n",
      "[17]\ttrain-rmse:0.25583\tvalidation-rmse:0.27661\n",
      "[18]\ttrain-rmse:0.25203\tvalidation-rmse:0.27388\n",
      "[19]\ttrain-rmse:0.24818\tvalidation-rmse:0.27123\n",
      "[20]\ttrain-rmse:0.24512\tvalidation-rmse:0.26882\n",
      "[21]\ttrain-rmse:0.24149\tvalidation-rmse:0.26669\n",
      "[22]\ttrain-rmse:0.23895\tvalidation-rmse:0.26478\n",
      "[23]\ttrain-rmse:0.23594\tvalidation-rmse:0.26331\n",
      "[24]\ttrain-rmse:0.23305\tvalidation-rmse:0.26141\n",
      "[25]\ttrain-rmse:0.23026\tvalidation-rmse:0.25997\n",
      "[26]\ttrain-rmse:0.22720\tvalidation-rmse:0.25799\n",
      "[27]\ttrain-rmse:0.22487\tvalidation-rmse:0.25620\n",
      "[28]\ttrain-rmse:0.22268\tvalidation-rmse:0.25494\n",
      "[29]\ttrain-rmse:0.22084\tvalidation-rmse:0.25374\n",
      "[30]\ttrain-rmse:0.21887\tvalidation-rmse:0.25266\n",
      "[31]\ttrain-rmse:0.21709\tvalidation-rmse:0.25172\n",
      "[32]\ttrain-rmse:0.21505\tvalidation-rmse:0.25075\n",
      "[33]\ttrain-rmse:0.21342\tvalidation-rmse:0.24991\n",
      "[34]\ttrain-rmse:0.21168\tvalidation-rmse:0.24882\n",
      "[35]\ttrain-rmse:0.21020\tvalidation-rmse:0.24826\n",
      "[36]\ttrain-rmse:0.20878\tvalidation-rmse:0.24779\n",
      "[37]\ttrain-rmse:0.20755\tvalidation-rmse:0.24731\n",
      "[38]\ttrain-rmse:0.20625\tvalidation-rmse:0.24668\n",
      "[39]\ttrain-rmse:0.20518\tvalidation-rmse:0.24624\n",
      "[40]\ttrain-rmse:0.20392\tvalidation-rmse:0.24539\n",
      "[41]\ttrain-rmse:0.20285\tvalidation-rmse:0.24501\n",
      "[42]\ttrain-rmse:0.20172\tvalidation-rmse:0.24435\n",
      "[43]\ttrain-rmse:0.20045\tvalidation-rmse:0.24380\n",
      "[44]\ttrain-rmse:0.19900\tvalidation-rmse:0.24311\n",
      "[45]\ttrain-rmse:0.19814\tvalidation-rmse:0.24293\n",
      "[46]\ttrain-rmse:0.19628\tvalidation-rmse:0.24184\n",
      "[47]\ttrain-rmse:0.19561\tvalidation-rmse:0.24159\n",
      "[48]\ttrain-rmse:0.19464\tvalidation-rmse:0.24131\n",
      "[49]\ttrain-rmse:0.19371\tvalidation-rmse:0.24109\n",
      "[50]\ttrain-rmse:0.19215\tvalidation-rmse:0.24020\n",
      "[51]\ttrain-rmse:0.19156\tvalidation-rmse:0.24015\n",
      "[52]\ttrain-rmse:0.19059\tvalidation-rmse:0.23979\n",
      "[53]\ttrain-rmse:0.18985\tvalidation-rmse:0.23958\n",
      "[54]\ttrain-rmse:0.18931\tvalidation-rmse:0.23930\n",
      "[55]\ttrain-rmse:0.18809\tvalidation-rmse:0.23878\n",
      "[56]\ttrain-rmse:0.18734\tvalidation-rmse:0.23853\n",
      "[57]\ttrain-rmse:0.18681\tvalidation-rmse:0.23849\n",
      "[58]\ttrain-rmse:0.18623\tvalidation-rmse:0.23836\n",
      "[59]\ttrain-rmse:0.18561\tvalidation-rmse:0.23835\n",
      "[60]\ttrain-rmse:0.18457\tvalidation-rmse:0.23791\n",
      "[61]\ttrain-rmse:0.18363\tvalidation-rmse:0.23783\n",
      "[62]\ttrain-rmse:0.18310\tvalidation-rmse:0.23788\n",
      "[63]\ttrain-rmse:0.18209\tvalidation-rmse:0.23755\n",
      "[64]\ttrain-rmse:0.18150\tvalidation-rmse:0.23735\n",
      "[65]\ttrain-rmse:0.18063\tvalidation-rmse:0.23698\n",
      "[66]\ttrain-rmse:0.17998\tvalidation-rmse:0.23681\n",
      "[67]\ttrain-rmse:0.17913\tvalidation-rmse:0.23646\n",
      "[68]\ttrain-rmse:0.17843\tvalidation-rmse:0.23628\n",
      "[69]\ttrain-rmse:0.17798\tvalidation-rmse:0.23627\n",
      "[70]\ttrain-rmse:0.17741\tvalidation-rmse:0.23622\n",
      "[71]\ttrain-rmse:0.17685\tvalidation-rmse:0.23607\n",
      "[72]\ttrain-rmse:0.17617\tvalidation-rmse:0.23584\n",
      "[73]\ttrain-rmse:0.17557\tvalidation-rmse:0.23562\n",
      "[74]\ttrain-rmse:0.17522\tvalidation-rmse:0.23537\n",
      "[75]\ttrain-rmse:0.17468\tvalidation-rmse:0.23510\n",
      "[76]\ttrain-rmse:0.17432\tvalidation-rmse:0.23503\n",
      "[77]\ttrain-rmse:0.17395\tvalidation-rmse:0.23494\n",
      "[78]\ttrain-rmse:0.17334\tvalidation-rmse:0.23482\n",
      "[79]\ttrain-rmse:0.17287\tvalidation-rmse:0.23467\n",
      "[80]\ttrain-rmse:0.17242\tvalidation-rmse:0.23453\n",
      "[81]\ttrain-rmse:0.17213\tvalidation-rmse:0.23447\n",
      "[82]\ttrain-rmse:0.17139\tvalidation-rmse:0.23431\n",
      "[83]\ttrain-rmse:0.17105\tvalidation-rmse:0.23428\n",
      "[84]\ttrain-rmse:0.17063\tvalidation-rmse:0.23413\n",
      "[85]\ttrain-rmse:0.17014\tvalidation-rmse:0.23404\n",
      "[86]\ttrain-rmse:0.16966\tvalidation-rmse:0.23401\n",
      "[87]\ttrain-rmse:0.16916\tvalidation-rmse:0.23388\n",
      "[88]\ttrain-rmse:0.16882\tvalidation-rmse:0.23364\n",
      "[89]\ttrain-rmse:0.16835\tvalidation-rmse:0.23339\n",
      "[90]\ttrain-rmse:0.16797\tvalidation-rmse:0.23332\n",
      "[91]\ttrain-rmse:0.16756\tvalidation-rmse:0.23330\n",
      "[92]\ttrain-rmse:0.16707\tvalidation-rmse:0.23298\n",
      "[93]\ttrain-rmse:0.16623\tvalidation-rmse:0.23273\n",
      "[94]\ttrain-rmse:0.16586\tvalidation-rmse:0.23279\n",
      "[95]\ttrain-rmse:0.16562\tvalidation-rmse:0.23276\n",
      "[96]\ttrain-rmse:0.16524\tvalidation-rmse:0.23266\n",
      "[97]\ttrain-rmse:0.16444\tvalidation-rmse:0.23246\n",
      "[98]\ttrain-rmse:0.16383\tvalidation-rmse:0.23222\n",
      "[99]\ttrain-rmse:0.16323\tvalidation-rmse:0.23209\n"
     ]
    }
   ],
   "source": [
    "# Train the model with eta = 0.1\n",
    "model_eta_0_1 = xgb.train(xgb_params, dtrain, num_round, evals=watchlist)"
   ]
  },
  {
   "cell_type": "code",
   "execution_count": 41,
   "id": "efd5929f",
   "metadata": {},
   "outputs": [
    {
     "name": "stdout",
     "output_type": "stream",
     "text": [
      "RMSE (eta = 0.1): 0.23209\n"
     ]
    }
   ],
   "source": [
    "# Make predictions with the model\n",
    "y_pred_eta_0_1 = model_eta_0_1.predict(dval)\n",
    "\n",
    "# Calculate RMSE for eta = 0.1\n",
    "rmse_eta_0_1 = mean_squared_error(y_val, y_pred_eta_0_1, squared=False)\n",
    "print(f\"RMSE (eta = 0.1): {rmse_eta_0_1:.5f}\")"
   ]
  },
  {
   "cell_type": "markdown",
   "id": "d071903c",
   "metadata": {},
   "source": [
    "#### Ans: 0.22862"
   ]
  },
  {
   "cell_type": "code",
   "execution_count": null,
   "id": "cf6e416e",
   "metadata": {},
   "outputs": [],
   "source": []
  }
 ],
 "metadata": {
  "kernelspec": {
   "display_name": "Python 3 (ipykernel)",
   "language": "python",
   "name": "python3"
  },
  "language_info": {
   "codemirror_mode": {
    "name": "ipython",
    "version": 3
   },
   "file_extension": ".py",
   "mimetype": "text/x-python",
   "name": "python",
   "nbconvert_exporter": "python",
   "pygments_lexer": "ipython3",
   "version": "3.11.3"
  }
 },
 "nbformat": 4,
 "nbformat_minor": 5
}
